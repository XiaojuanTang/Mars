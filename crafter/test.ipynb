{
 "cells": [
  {
   "cell_type": "code",
   "execution_count": 1,
   "metadata": {},
   "outputs": [
    {
     "name": "stdout",
     "output_type": "stream",
     "text": [
      "True\n"
     ]
    }
   ],
   "source": [
    "def has_cycle(graph):\n",
    "    visited = set()\n",
    "    stack = set()\n",
    "\n",
    "    def dfs(node):\n",
    "        if node in stack:\n",
    "            return True\n",
    "        if node in visited:\n",
    "            return False\n",
    "\n",
    "        visited.add(node)\n",
    "        stack.add(node)\n",
    "\n",
    "        for neighbor in graph.get(node, []):\n",
    "            if dfs(neighbor):\n",
    "                return True\n",
    "\n",
    "        stack.remove(node)\n",
    "        return False\n",
    "\n",
    "    for node in graph:\n",
    "        if dfs(node):\n",
    "            return True\n",
    "\n",
    "    return False\n",
    "\n",
    "# 测试用例\n",
    "graph = {\n",
    "    1: [2],\n",
    "    2: [3, 4],\n",
    "    3: [4],\n",
    "    4: [1],\n",
    "    5: []\n",
    "}\n",
    "\n",
    "print(has_cycle(graph))  # True，图中存在环"
   ]
  },
  {
   "cell_type": "code",
   "execution_count": null,
   "metadata": {},
   "outputs": [],
   "source": []
  }
 ],
 "metadata": {
  "kernelspec": {
   "display_name": "crafter",
   "language": "python",
   "name": "python3"
  },
  "language_info": {
   "codemirror_mode": {
    "name": "ipython",
    "version": 3
   },
   "file_extension": ".py",
   "mimetype": "text/x-python",
   "name": "python",
   "nbconvert_exporter": "python",
   "pygments_lexer": "ipython3",
   "version": "3.10.13"
  }
 },
 "nbformat": 4,
 "nbformat_minor": 2
}
